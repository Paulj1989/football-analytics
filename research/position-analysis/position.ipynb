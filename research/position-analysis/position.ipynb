{
 "cells": [
  {
   "cell_type": "markdown",
   "metadata": {},
   "source": [
    "# Analyzing Player Roles Using Touch Data & XGBoost\n",
    "\n",
    "Using data segmenting player touches by their position on the pitch, we can compare player offensive roles. In addition to touch data, progressive passing data, and final third passing data can help identify the creative outlets in a team's offensive plays. XGBoost is an appropriate tool for dealing with this classification problem, and consistently outperformed other similar methods."
   ]
  },
  {
   "cell_type": "code",
   "execution_count": null,
   "metadata": {},
   "outputs": [],
   "source": [
    "import numpy as np\n",
    "import pandas as pd\n",
    "import matplotlib.pyplot as plt\n",
    "import seaborn as sns\n",
    "from sklearn import  metrics, model_selection\n",
    "from xgboost.sklearn import XGBClassifier"
   ]
  },
  {
   "cell_type": "code",
   "execution_count": null,
   "metadata": {},
   "outputs": [],
   "source": [
    "df_possession = pd.read_csv('possession-stats.csv').dropna()\n",
    "df_passing = pd.read_csv('passing-stats.csv').dropna()\n",
    "\n",
    "df_full = pd.merge(df_possession, df_passing, on=['player', 'position', 'team',\n",
    "                                   'league', 'age', 'year_of_birth',\n",
    "                                   'mins_90s'], how='left')"
   ]
  },
  {
   "cell_type": "code",
   "execution_count": null,
   "metadata": {},
   "outputs": [],
   "source": [
    "for col in df_possession.columns:\n",
    "    print(col)"
   ]
  },
  {
   "cell_type": "code",
   "execution_count": null,
   "metadata": {},
   "outputs": [],
   "source": [
    "touches = df_possession[['touches_def_pen', 'touches_def_third',\n",
    "                        'touches_mid_third', 'touches_att_third', 'touches_att_pen']]\n",
    "X = touches.to_numpy()"
   ]
  },
  {
   "cell_type": "markdown",
   "metadata": {},
   "source": [
    "## Defining Roles\n",
    "\n",
    "Assuming that players can be classified based on certain roles in the team, we can determine those roles, and the quintessential players that represent those roles. However, splitting players based on roles using touch data means that we won't be able to identify differences between goalscorers, or chance creators, and we won't be able to identify defensive duties. Instead, it will be more based on where on the pitch they carry out their on-ball work.\n",
    "\n",
    "This means that the kind of roles being identified will relate more to the nature of their part in the buildup of an offensive play. For example, a player touching the ball most often in the defensive third is likely to be a defender, but their role in the offense is probably ball retention, as a safety valve.\n",
    "\n",
    "### Roles & Players That Represent Those Roles\n",
    "\n",
    "1. Ball Retention/Possession - Jorginho, Hummels, Van Dijk\n",
    "2. Transition/Play Creation - Witsel, JWP, Kovacic\n",
    "3. Chance Creation - Sancho, Muller, TAA\n",
    "4. Offensive Lead - Lewandowski, Suarez, Haaland, Aguero"
   ]
  },
  {
   "cell_type": "code",
   "execution_count": null,
   "metadata": {},
   "outputs": [],
   "source": [
    "X_train, X_test, y_train, y_test = train_test_split(\n",
    "           X, y, test_size = 0.25, random_state = 0)"
   ]
  }
 ],
 "metadata": {
  "kernelspec": {
   "display_name": "Python 3.7.8 64-bit ('miniconda3': virtualenv)",
   "name": "python37864bitminiconda3virtualenv82d421f811c442678d1c05a5cb1c890b"
  },
  "language_info": {
   "codemirror_mode": {
    "name": "ipython",
    "version": 3
   },
   "file_extension": ".py",
   "mimetype": "text/x-python",
   "name": "python",
   "nbconvert_exporter": "python",
   "pygments_lexer": "ipython3",
   "version": "3.7.8"
  },
  "orig_nbformat": 2
 },
 "nbformat": 4,
 "nbformat_minor": 2
}