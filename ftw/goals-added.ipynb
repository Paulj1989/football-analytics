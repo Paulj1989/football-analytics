{
 "metadata": {
  "language_info": {
   "codemirror_mode": {
    "name": "ipython",
    "version": 3
   },
   "file_extension": ".py",
   "mimetype": "text/x-python",
   "name": "python",
   "nbconvert_exporter": "python",
   "pygments_lexer": "ipython3",
   "version": "3.7.8-final"
  },
  "orig_nbformat": 2,
  "kernelspec": {
   "name": "python37864bitminiconda3virtualenv82d421f811c442678d1c05a5cb1c890b",
   "display_name": "Python 3.7.8 64-bit ('miniconda3': virtualenv)"
  }
 },
 "nbformat": 4,
 "nbformat_minor": 2,
 "cells": [
  {
   "cell_type": "code",
   "execution_count": 11,
   "metadata": {},
   "outputs": [],
   "source": [
    "import numpy as np\n",
    "import pandas as pd\n",
    "from pandas_profiling import ProfileReport\n",
    "import ipywidgets"
   ]
  },
  {
   "cell_type": "code",
   "execution_count": 4,
   "metadata": {},
   "outputs": [],
   "source": [
    "df = pd.read_csv(\"/home/paulj1989/Downloads/csv\")"
   ]
  },
  {
   "cell_type": "code",
   "execution_count": 5,
   "metadata": {},
   "outputs": [
    {
     "output_type": "execute_result",
     "data": {
      "text/plain": [
       "      Unnamed: 0               Player Nation            Team  TeamElo  \\\n",
       "0              1         Lionel Messi    ARG       Barcelona  2025.35   \n",
       "1              2        Kylian Mbappe    FRA       Paris S-G  1824.47   \n",
       "2              3         Lionel Messi    ARG       Barcelona  1964.47   \n",
       "3              4         Lionel Messi    ARG       Barcelona  1997.04   \n",
       "4              5          Carlos Vela    MEX  Los Angeles FC      NaN   \n",
       "...          ...                  ...    ...             ...      ...   \n",
       "8837        8838         Jorge Molina    ESP         Granada  1748.21   \n",
       "8838        8839          Iago Falque    ESP       Benevento  1562.28   \n",
       "8839        8840  Kevin Monnet-Paquet    FRA   Saint-Étienne  1556.93   \n",
       "8840        8841              Joaquin    ESP           Betis  1674.26   \n",
       "8841        8842        Franck Ribery    FRA      Fiorentina  1635.53   \n",
       "\n",
       "       League     Season  AgeDuringSeason  CurrentAge Position  PlayStyle  \\\n",
       "0     La Liga  2017-2018               30          33    FW,MF   Dribbler   \n",
       "1     Ligue 1  2018-2019               19          22       FW   Finisher   \n",
       "2     La Liga  2019-2020               32          33    FW,MF  Playmaker   \n",
       "3     La Liga  2018-2019               31          33       FW  Playmaker   \n",
       "4         MLS       2019               29          31       FW  Playmaker   \n",
       "...       ...        ...              ...         ...      ...        ...   \n",
       "8837  La Liga  2020-2021               38          38       FW   Finisher   \n",
       "8838  Serie A  2020-2021               30          30       MF  Playmaker   \n",
       "8839  Ligue 1  2020-2021               31          32    MF,FW   Dribbler   \n",
       "8840  La Liga  2020-2021               39          39    FW,MF  Playmaker   \n",
       "8841  Serie A  2020-2021               37          37       FW  Playmaker   \n",
       "\n",
       "       Min  Starts  DAVIES  DAVIESPer90  pGoalsAddedAbovePlayStyle  \\\n",
       "0     3002      32   17.88         0.54                      18.05   \n",
       "1     2343      24   15.70         0.60                      14.47   \n",
       "2     2880      32   14.86         0.46                      14.88   \n",
       "3     2713      29   14.74         0.49                      14.76   \n",
       "4     2723      31   13.18         0.44                      13.35   \n",
       "...    ...     ...     ...          ...                        ...   \n",
       "8837   158       2   -3.99        -2.27                      -3.22   \n",
       "8838   117       2   -4.05        -3.12                      -3.88   \n",
       "8839   109       1   -4.09        -3.38                      -2.98   \n",
       "8840   334       5   -4.71        -1.27                      -3.07   \n",
       "8841   245       3   -4.83        -1.78                      -3.20   \n",
       "\n",
       "      pGoalsAddedTotal  pGoalsAddedPer90  \n",
       "0                20.96              0.63  \n",
       "1                17.87              0.69  \n",
       "2                18.64              0.58  \n",
       "3                18.52              0.61  \n",
       "4                17.11              0.57  \n",
       "...                ...               ...  \n",
       "8837              0.18              0.10  \n",
       "8838             -0.12             -0.09  \n",
       "8839             -0.07             -0.06  \n",
       "8840              0.69              0.19  \n",
       "8841              0.56              0.21  \n",
       "\n",
       "[8842 rows x 18 columns]"
      ],
      "text/html": "<div>\n<style scoped>\n    .dataframe tbody tr th:only-of-type {\n        vertical-align: middle;\n    }\n\n    .dataframe tbody tr th {\n        vertical-align: top;\n    }\n\n    .dataframe thead th {\n        text-align: right;\n    }\n</style>\n<table border=\"1\" class=\"dataframe\">\n  <thead>\n    <tr style=\"text-align: right;\">\n      <th></th>\n      <th>Unnamed: 0</th>\n      <th>Player</th>\n      <th>Nation</th>\n      <th>Team</th>\n      <th>TeamElo</th>\n      <th>League</th>\n      <th>Season</th>\n      <th>AgeDuringSeason</th>\n      <th>CurrentAge</th>\n      <th>Position</th>\n      <th>PlayStyle</th>\n      <th>Min</th>\n      <th>Starts</th>\n      <th>DAVIES</th>\n      <th>DAVIESPer90</th>\n      <th>pGoalsAddedAbovePlayStyle</th>\n      <th>pGoalsAddedTotal</th>\n      <th>pGoalsAddedPer90</th>\n    </tr>\n  </thead>\n  <tbody>\n    <tr>\n      <th>0</th>\n      <td>1</td>\n      <td>Lionel Messi</td>\n      <td>ARG</td>\n      <td>Barcelona</td>\n      <td>2025.35</td>\n      <td>La Liga</td>\n      <td>2017-2018</td>\n      <td>30</td>\n      <td>33</td>\n      <td>FW,MF</td>\n      <td>Dribbler</td>\n      <td>3002</td>\n      <td>32</td>\n      <td>17.88</td>\n      <td>0.54</td>\n      <td>18.05</td>\n      <td>20.96</td>\n      <td>0.63</td>\n    </tr>\n    <tr>\n      <th>1</th>\n      <td>2</td>\n      <td>Kylian Mbappe</td>\n      <td>FRA</td>\n      <td>Paris S-G</td>\n      <td>1824.47</td>\n      <td>Ligue 1</td>\n      <td>2018-2019</td>\n      <td>19</td>\n      <td>22</td>\n      <td>FW</td>\n      <td>Finisher</td>\n      <td>2343</td>\n      <td>24</td>\n      <td>15.70</td>\n      <td>0.60</td>\n      <td>14.47</td>\n      <td>17.87</td>\n      <td>0.69</td>\n    </tr>\n    <tr>\n      <th>2</th>\n      <td>3</td>\n      <td>Lionel Messi</td>\n      <td>ARG</td>\n      <td>Barcelona</td>\n      <td>1964.47</td>\n      <td>La Liga</td>\n      <td>2019-2020</td>\n      <td>32</td>\n      <td>33</td>\n      <td>FW,MF</td>\n      <td>Playmaker</td>\n      <td>2880</td>\n      <td>32</td>\n      <td>14.86</td>\n      <td>0.46</td>\n      <td>14.88</td>\n      <td>18.64</td>\n      <td>0.58</td>\n    </tr>\n    <tr>\n      <th>3</th>\n      <td>4</td>\n      <td>Lionel Messi</td>\n      <td>ARG</td>\n      <td>Barcelona</td>\n      <td>1997.04</td>\n      <td>La Liga</td>\n      <td>2018-2019</td>\n      <td>31</td>\n      <td>33</td>\n      <td>FW</td>\n      <td>Playmaker</td>\n      <td>2713</td>\n      <td>29</td>\n      <td>14.74</td>\n      <td>0.49</td>\n      <td>14.76</td>\n      <td>18.52</td>\n      <td>0.61</td>\n    </tr>\n    <tr>\n      <th>4</th>\n      <td>5</td>\n      <td>Carlos Vela</td>\n      <td>MEX</td>\n      <td>Los Angeles FC</td>\n      <td>NaN</td>\n      <td>MLS</td>\n      <td>2019</td>\n      <td>29</td>\n      <td>31</td>\n      <td>FW</td>\n      <td>Playmaker</td>\n      <td>2723</td>\n      <td>31</td>\n      <td>13.18</td>\n      <td>0.44</td>\n      <td>13.35</td>\n      <td>17.11</td>\n      <td>0.57</td>\n    </tr>\n    <tr>\n      <th>...</th>\n      <td>...</td>\n      <td>...</td>\n      <td>...</td>\n      <td>...</td>\n      <td>...</td>\n      <td>...</td>\n      <td>...</td>\n      <td>...</td>\n      <td>...</td>\n      <td>...</td>\n      <td>...</td>\n      <td>...</td>\n      <td>...</td>\n      <td>...</td>\n      <td>...</td>\n      <td>...</td>\n      <td>...</td>\n      <td>...</td>\n    </tr>\n    <tr>\n      <th>8837</th>\n      <td>8838</td>\n      <td>Jorge Molina</td>\n      <td>ESP</td>\n      <td>Granada</td>\n      <td>1748.21</td>\n      <td>La Liga</td>\n      <td>2020-2021</td>\n      <td>38</td>\n      <td>38</td>\n      <td>FW</td>\n      <td>Finisher</td>\n      <td>158</td>\n      <td>2</td>\n      <td>-3.99</td>\n      <td>-2.27</td>\n      <td>-3.22</td>\n      <td>0.18</td>\n      <td>0.10</td>\n    </tr>\n    <tr>\n      <th>8838</th>\n      <td>8839</td>\n      <td>Iago Falque</td>\n      <td>ESP</td>\n      <td>Benevento</td>\n      <td>1562.28</td>\n      <td>Serie A</td>\n      <td>2020-2021</td>\n      <td>30</td>\n      <td>30</td>\n      <td>MF</td>\n      <td>Playmaker</td>\n      <td>117</td>\n      <td>2</td>\n      <td>-4.05</td>\n      <td>-3.12</td>\n      <td>-3.88</td>\n      <td>-0.12</td>\n      <td>-0.09</td>\n    </tr>\n    <tr>\n      <th>8839</th>\n      <td>8840</td>\n      <td>Kevin Monnet-Paquet</td>\n      <td>FRA</td>\n      <td>Saint-Étienne</td>\n      <td>1556.93</td>\n      <td>Ligue 1</td>\n      <td>2020-2021</td>\n      <td>31</td>\n      <td>32</td>\n      <td>MF,FW</td>\n      <td>Dribbler</td>\n      <td>109</td>\n      <td>1</td>\n      <td>-4.09</td>\n      <td>-3.38</td>\n      <td>-2.98</td>\n      <td>-0.07</td>\n      <td>-0.06</td>\n    </tr>\n    <tr>\n      <th>8840</th>\n      <td>8841</td>\n      <td>Joaquin</td>\n      <td>ESP</td>\n      <td>Betis</td>\n      <td>1674.26</td>\n      <td>La Liga</td>\n      <td>2020-2021</td>\n      <td>39</td>\n      <td>39</td>\n      <td>FW,MF</td>\n      <td>Playmaker</td>\n      <td>334</td>\n      <td>5</td>\n      <td>-4.71</td>\n      <td>-1.27</td>\n      <td>-3.07</td>\n      <td>0.69</td>\n      <td>0.19</td>\n    </tr>\n    <tr>\n      <th>8841</th>\n      <td>8842</td>\n      <td>Franck Ribery</td>\n      <td>FRA</td>\n      <td>Fiorentina</td>\n      <td>1635.53</td>\n      <td>Serie A</td>\n      <td>2020-2021</td>\n      <td>37</td>\n      <td>37</td>\n      <td>FW</td>\n      <td>Playmaker</td>\n      <td>245</td>\n      <td>3</td>\n      <td>-4.83</td>\n      <td>-1.78</td>\n      <td>-3.20</td>\n      <td>0.56</td>\n      <td>0.21</td>\n    </tr>\n  </tbody>\n</table>\n<p>8842 rows × 18 columns</p>\n</div>"
     },
     "metadata": {},
     "execution_count": 5
    }
   ],
   "source": [
    "df"
   ]
  },
  {
   "cell_type": "code",
   "execution_count": 6,
   "metadata": {},
   "outputs": [],
   "source": [
    "profile = ProfileReport(df, title=\"Pandas Profiling Report\")"
   ]
  },
  {
   "cell_type": "code",
   "execution_count": 12,
   "metadata": {},
   "outputs": [
    {
     "output_type": "display_data",
     "data": {
      "text/plain": "VBox(children=(Tab(children=(Tab(children=(GridBox(children=(VBox(children=(GridspecLayout(children=(HTML(valu…",
      "application/vnd.jupyter.widget-view+json": {
       "version_major": 2,
       "version_minor": 0,
       "model_id": "e9df6a3d79ae4cfd92f803fbafe51495"
      }
     },
     "metadata": {}
    }
   ],
   "source": [
    "profile.to_widgets()"
   ]
  },
  {
   "cell_type": "code",
   "execution_count": null,
   "metadata": {},
   "outputs": [],
   "source": [
    "profile.to_file(\"report.html\")"
   ]
  }
 ]
}